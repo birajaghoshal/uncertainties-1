{
 "cells": [
  {
   "cell_type": "code",
   "execution_count": 9,
   "metadata": {
    "scrolled": true
   },
   "outputs": [
    {
     "name": "stdout",
     "output_type": "stream",
     "text": [
      "Working directory: /usr/local/google/home/rikel/Desktop/rik/projects/nicolas_brosse/code/uncertainties/notebooks\n"
     ]
    }
   ],
   "source": [
    "# Execute only once.\n",
    "\n",
    "import os\n",
    "# # Change working directory = uncertainties folder\n",
    "# os.chdir(os.path.dirname(os.getcwd()))\n",
    "print('Working directory: {}'.format(os.getcwd()))\n",
    "\n",
    "import sys\n",
    "sys.path.insert(0, os.getcwd())\n",
    "sys.path.insert(0, '/usr/local/google/home/rikel/Desktop/rik/projects/nicolas_brosse/code/uncertainties/')"
   ]
  },
  {
   "cell_type": "code",
   "execution_count": 2,
   "metadata": {
    "colab": {
     "height": 35
    },
    "colab_type": "code",
    "executionInfo": {
     "elapsed": 214,
     "status": "ok",
     "timestamp": 1542963443151,
     "user": {
      "displayName": "Nicolas Brosse",
      "photoUrl": "https://lh4.googleusercontent.com/-KtYJRoz2bdk/AAAAAAAAAAI/AAAAAAAAAE0/jCGZ88pRsR0/s64/photo.jpg",
      "userId": "12351590897638531244"
     },
     "user_tz": -60
    },
    "id": "4_cB8xgctjQU",
    "outputId": "85063635-2941-495e-f5b1-e0365d80385d",
    "scrolled": true
   },
   "outputs": [
    {
     "name": "stderr",
     "output_type": "stream",
     "text": [
      "/usr/local/google/home/rikel/anaconda3/lib/python3.6/site-packages/h5py/__init__.py:36: FutureWarning: Conversion of the second argument of issubdtype from `float` to `np.floating` is deprecated. In future, it will be treated as `np.float64 == np.dtype(float).type`.\n",
      "  from ._conv import register_converters as _register_converters\n",
      "Using TensorFlow backend.\n"
     ]
    }
   ],
   "source": [
    "import matplotlib.pyplot as plt\n",
    "import numpy as np\n",
    "import pandas as pd\n",
    "import pickle \n",
    "import keras"
   ]
  },
  {
   "cell_type": "code",
   "execution_count": 11,
   "metadata": {},
   "outputs": [],
   "source": [
    "from utils.metrics import *"
   ]
  },
  {
   "cell_type": "code",
   "execution_count": 3,
   "metadata": {
    "colab": {},
    "colab_type": "code",
    "id": "DkdjMfIXowsk",
    "scrolled": true
   },
   "outputs": [],
   "source": [
    "# Load y datasets, one-hot encoding\n",
    "(_,_), (_,y_mnist) = keras.datasets.mnist.load_data()\n",
    "(_,_), (_,y_cifar10) = keras.datasets.cifar10.load_data()\n",
    "(_,_), (_,y_cifar100) = keras.datasets.cifar100.load_data()\n",
    "\n",
    "y_mnist = keras.utils.to_categorical(y_mnist, 10)\n",
    "y_cifar10 = keras.utils.to_categorical(y_cifar10, 10)\n",
    "y_cifar100 = keras.utils.to_categorical(y_cifar100, 100)"
   ]
  },
  {
   "cell_type": "code",
   "execution_count": 14,
   "metadata": {},
   "outputs": [
    {
     "name": "stdout",
     "output_type": "stream",
     "text": [
      "----------------\n",
      "Reading file /usr/local/google/home/rikel/Desktop/rik/projects/nicolas_brosse/code/mnist-outputs-data/mnist-first-10_bootstrap_ep-10_lr-0.1_bs-32_s-100/p_in.h5 divided in 1 chunks.\n",
      "----------------\n"
     ]
    }
   ],
   "source": [
    "file_mnist_boot = '/usr/local/google/home/rikel/Desktop/rik/projects/nicolas_brosse/code/mnist-outputs-data/mnist-first-10_bootstrap_ep-10_lr-0.1_bs-32_s-100/p_in.h5'\n",
    "\n",
    "met = metrics_from_h5file(y_mnist, h5file=file_mnist_boot)"
   ]
  },
  {
   "cell_type": "code",
   "execution_count": 18,
   "metadata": {},
   "outputs": [
    {
     "data": {
      "text/plain": [
       "dict_keys(['acc', 'bs', 'p_mean', 'p_std', 'neglog', 'ent', 'cal', 'q_tab', 'ent_q', 'mi', 'risk_cov_std', 'risk_cov_softmax', 'risk_cov_q'])"
      ]
     },
     "execution_count": 18,
     "metadata": {},
     "output_type": "execute_result"
    }
   ],
   "source": [
    "met.keys()"
   ]
  },
  {
   "cell_type": "code",
   "execution_count": 20,
   "metadata": {},
   "outputs": [
    {
     "data": {
      "text/plain": [
       "((10000, 10), (10000, 10), (10000, 10))"
      ]
     },
     "execution_count": 20,
     "metadata": {},
     "output_type": "execute_result"
    }
   ],
   "source": [
    "met['p_std'].shape, met['p_mean'].shape, met['q_tab'].shape"
   ]
  },
  {
   "cell_type": "code",
   "execution_count": 69,
   "metadata": {},
   "outputs": [],
   "source": [
    "def compute_risk_coverage(points):\n",
    "    # points is a matrix; first column is whether the point was correctly classified (1) or not (0)\n",
    "    # second column contains the value of the confidence function\n",
    "    \n",
    "    # sort by decreasing value of confidence\n",
    "    n = points.shape[0]\n",
    "    points = points[(-points[:, 1]).argsort()]\n",
    "    sum_accuracy = np.cumsum(points[:, 0])\n",
    "    return [((i+1)/n, float(acc) / (i+1)) for i, acc in enumerate(sum_accuracy)]"
   ]
  },
  {
   "cell_type": "code",
   "execution_count": 70,
   "metadata": {},
   "outputs": [],
   "source": [
    "points_acc = (np.argmax(y_mnist, axis=1) == np.argmax(met['p_mean'], axis=1)).astype(int)"
   ]
  },
  {
   "cell_type": "code",
   "execution_count": 71,
   "metadata": {},
   "outputs": [
    {
     "data": {
      "text/plain": [
       "0.9812"
      ]
     },
     "execution_count": 71,
     "metadata": {},
     "output_type": "execute_result"
    }
   ],
   "source": [
    "np.mean(points_acc)"
   ]
  },
  {
   "cell_type": "code",
   "execution_count": 72,
   "metadata": {},
   "outputs": [],
   "source": [
    "points_pmax = np.hstack([points_acc[:, np.newaxis],\n",
    "                         np.max(met['p_mean'], axis=1, keepdims=True)])"
   ]
  },
  {
   "cell_type": "code",
   "execution_count": 73,
   "metadata": {},
   "outputs": [],
   "source": [
    "points_pstd = np.hstack([points_acc[:, np.newaxis],\n",
    "                         np.max(-met['p_std'], axis=1, keepdims=True)])"
   ]
  },
  {
   "cell_type": "code",
   "execution_count": 74,
   "metadata": {},
   "outputs": [],
   "source": [
    "points_qtab = np.hstack([points_acc[:, np.newaxis],\n",
    "                         np.max(met['q_tab'], axis=1, keepdims=True)])"
   ]
  },
  {
   "cell_type": "code",
   "execution_count": 75,
   "metadata": {},
   "outputs": [],
   "source": [
    "rc_pmax = compute_risk_coverage(points_pmax)"
   ]
  },
  {
   "cell_type": "code",
   "execution_count": 76,
   "metadata": {},
   "outputs": [],
   "source": [
    "rc_pstd = compute_risk_coverage(points_pstd)"
   ]
  },
  {
   "cell_type": "code",
   "execution_count": 77,
   "metadata": {},
   "outputs": [],
   "source": [
    "rc_qtab = compute_risk_coverage(points_qtab)"
   ]
  },
  {
   "cell_type": "code",
   "execution_count": 174,
   "metadata": {},
   "outputs": [
    {
     "data": {
      "text/plain": [
       "<matplotlib.legend.Legend at 0x7fde71ecac18>"
      ]
     },
     "execution_count": 174,
     "metadata": {},
     "output_type": "execute_result"
    },
    {
     "data": {
      "image/png": "[encoded data removed]",
      "text/plain": [
       "<Figure size 432x288 with 1 Axes>"
      ]
     },
     "metadata": {},
     "output_type": "display_data"
    }
   ],
   "source": [
    "plt.plot([elt[0] for elt in rc_pmax], [elt[1] for elt in rc_pmax], 'b', label='pmax')\n",
    "plt.plot([elt[0] for elt in rc_pstd], [elt[1] for elt in rc_pstd], 'r', label='pstd')\n",
    "plt.plot([elt[0] for elt in rc_qtab], [elt[1] for elt in rc_qtab], 'g', label='qtab')\n",
    "plt.xlabel('coverage')\n",
    "plt.ylabel('accuracy')\n",
    "plt.legend(loc=\"best\")\n",
    "# plt.ylim((0, 1))"
   ]
  },
  {
   "cell_type": "code",
   "execution_count": 81,
   "metadata": {},
   "outputs": [],
   "source": [
    "def find_best_coverage(max_risk, risk_coverage_curve):\n",
    "    min_acc = 1 - max_risk\n",
    "    for cov, acc in risk_coverage_curve[::-1]:\n",
    "        if acc > min_acc:\n",
    "            return cov\n",
    "    return -1"
   ]
  },
  {
   "cell_type": "code",
   "execution_count": 112,
   "metadata": {},
   "outputs": [],
   "source": [
    "max_risk = 0.001"
   ]
  },
  {
   "cell_type": "code",
   "execution_count": 133,
   "metadata": {},
   "outputs": [
    {
     "data": {
      "text/plain": [
       "0.8531"
      ]
     },
     "execution_count": 133,
     "metadata": {},
     "output_type": "execute_result"
    }
   ],
   "source": [
    "find_best_coverage(max_risk, rc_pmax)"
   ]
  },
  {
   "cell_type": "code",
   "execution_count": 134,
   "metadata": {},
   "outputs": [
    {
     "data": {
      "text/plain": [
       "0.1014"
      ]
     },
     "execution_count": 134,
     "metadata": {},
     "output_type": "execute_result"
    }
   ],
   "source": [
    "find_best_coverage(max_risk, rc_pstd)"
   ]
  },
  {
   "cell_type": "code",
   "execution_count": 135,
   "metadata": {},
   "outputs": [
    {
     "data": {
      "text/plain": [
       "0.0079"
      ]
     },
     "execution_count": 135,
     "metadata": {},
     "output_type": "execute_result"
    }
   ],
   "source": [
    "find_best_coverage(max_risk, rc_qtab)"
   ]
  },
  {
   "cell_type": "code",
   "execution_count": 149,
   "metadata": {},
   "outputs": [],
   "source": [
    "param_int = np.linspace(0., 1., 10)"
   ]
  },
  {
   "cell_type": "code",
   "execution_count": 166,
   "metadata": {},
   "outputs": [],
   "source": [
    "vals = {} ; validation_split = 0.5\n",
    "for a in param_int:\n",
    "    for b in param_int:\n",
    "        for c in param_int:\n",
    "            # compute new confidence function\n",
    "            conf_f = a * np.max(met['p_mean'], axis=1, keepdims=True)\n",
    "            conf_f += b * np.max(-met['p_std'], axis=1, keepdims=True)\n",
    "            conf_f += c * np.max(met['q_tab'], axis=1, keepdims=True)\n",
    "            points_conf_f = np.hstack([points_acc[:, np.newaxis], conf_f])\n",
    "            \n",
    "            # split points in validation and test\n",
    "            points_val = int(validation_split * points_conf_f.shape[0])\n",
    "            points_conf_val = points_conf_f[:points_val, :]\n",
    "            points_conf_test = points_conf_f[points_val:, :]\n",
    "            \n",
    "            # compute risk coverage, and maximum coverage for given risk\n",
    "            rc_conf_val = compute_risk_coverage(points_conf_val)\n",
    "            bc_conf_val = find_best_coverage(max_risk, rc_conf_val)            \n",
    "            rc_conf_test = compute_risk_coverage(points_conf_test)\n",
    "            bc_conf_test = find_best_coverage(max_risk, rc_conf_test)            \n",
    "            \n",
    "            vals[(a, b, c)] = (bc_conf_val, bc_conf_test, rc_conf_val, rc_conf_test)\n",
    "            # print(a, b, c, bc_conf_val, bc_conf_test)"
   ]
  },
  {
   "cell_type": "code",
   "execution_count": 167,
   "metadata": {},
   "outputs": [],
   "source": [
    "a_opt, b_opt, c_opt = -1, -1, -1\n",
    "cov_opt = 0\n",
    "\n",
    "for key, val in vals.items():\n",
    "    if a_opt == -1 or val[0] > cov_opt:\n",
    "        a_opt, b_opt, c_opt = key\n",
    "        cov_opt = val[0]"
   ]
  },
  {
   "cell_type": "code",
   "execution_count": 168,
   "metadata": {},
   "outputs": [
    {
     "data": {
      "text/plain": [
       "(0.7777777777777777, 0.0, 0.6666666666666666, 0.766)"
      ]
     },
     "execution_count": 168,
     "metadata": {},
     "output_type": "execute_result"
    }
   ],
   "source": [
    "a_opt, b_opt, c_opt, cov_opt"
   ]
  },
  {
   "cell_type": "code",
   "execution_count": 177,
   "metadata": {},
   "outputs": [
    {
     "data": {
      "image/png": "[encoded data removed]",
      "text/plain": [
       "<Figure size 432x288 with 1 Axes>"
      ]
     },
     "metadata": {},
     "output_type": "display_data"
    }
   ],
   "source": [
    "plt.hist([val[0] for key, val in vals.items()], bins=100, label='Validation')\n",
    "plt.hist([val[1] for key, val in vals.items()], bins=100, label='Test')\n",
    "plt.title('Coverages Found')\n",
    "plt.legend(loc=\"best\")\n",
    "plt.xlim((0, 1))\n",
    "plt.show()"
   ]
  },
  {
   "cell_type": "code",
   "execution_count": 169,
   "metadata": {},
   "outputs": [
    {
     "data": {
      "text/plain": [
       "Text(0.5,1,'Validation Performance')"
      ]
     },
     "execution_count": 169,
     "metadata": {},
     "output_type": "execute_result"
    },
    {
     "data": {
      "image/png": "[encoded data removed]",
      "text/plain": [
       "<Figure size 432x288 with 1 Axes>"
      ]
     },
     "metadata": {},
     "output_type": "display_data"
    }
   ],
   "source": [
    "plt.plot([elt[0] for elt in vals[1.0, 0.0, 0.0][2]],\n",
    "         [elt[1] for elt in vals[1.0, 0.0, 0.0][2]], 'b', label='pmax')\n",
    "plt.plot([elt[0] for elt in vals[0.0, 1.0, 0.0][2]],\n",
    "         [elt[1] for elt in vals[0.0, 1.0, 0.0][2]], 'r', label='pstd')\n",
    "plt.plot([elt[0] for elt in vals[0.0, 0.0, 1.0][2]],\n",
    "         [elt[1] for elt in vals[0.0, 0.0, 1.0][2]], 'g', label='qtab')\n",
    "plt.plot([elt[0] for elt in vals[a_opt, b_opt, c_opt][2]],\n",
    "         [elt[1] for elt in vals[a_opt, b_opt, c_opt][2]], 'm', label='optimized')\n",
    "plt.axhline(1-max_risk, ls='--', label='min accuracy')\n",
    "plt.xlabel('coverage')\n",
    "plt.ylabel('accuracy')\n",
    "plt.legend(loc='best')\n",
    "plt.title('Validation Performance')"
   ]
  },
  {
   "cell_type": "code",
   "execution_count": 170,
   "metadata": {},
   "outputs": [
    {
     "data": {
      "text/plain": [
       "Text(0.5,1,'Test Performance')"
      ]
     },
     "execution_count": 170,
     "metadata": {},
     "output_type": "execute_result"
    },
    {
     "data": {
      "image/png": "[encoded data removed]",
      "text/plain": [
       "<Figure size 432x288 with 1 Axes>"
      ]
     },
     "metadata": {},
     "output_type": "display_data"
    }
   ],
   "source": [
    "plt.plot([elt[0] for elt in vals[1.0, 0.0, 0.0][3]],\n",
    "         [elt[1] for elt in vals[1.0, 0.0, 0.0][3]], 'b', label='pmax')\n",
    "plt.plot([elt[0] for elt in vals[0.0, 1.0, 0.0][3]],\n",
    "         [elt[1] for elt in vals[0.0, 1.0, 0.0][3]], 'r', label='pstd')\n",
    "plt.plot([elt[0] for elt in vals[0.0, 0.0, 1.0][3]],\n",
    "         [elt[1] for elt in vals[0.0, 0.0, 1.0][3]], 'g', label='qtab')\n",
    "plt.plot([elt[0] for elt in vals[a_opt, b_opt, c_opt][3]],\n",
    "         [elt[1] for elt in vals[a_opt, b_opt, c_opt][3]], 'm', label='optimized')\n",
    "plt.xlabel('coverage')\n",
    "plt.ylabel('accuracy')\n",
    "plt.legend(loc='best')\n",
    "plt.title('Test Performance')"
   ]
  },
  {
   "cell_type": "code",
   "execution_count": null,
   "metadata": {},
   "outputs": [],
   "source": []
  }
 ],
 "metadata": {
  "colab": {
   "collapsed_sections": [],
   "last_runtime": {
    "build_target": "",
    "kind": "local"
   },
   "name": "reading_mnist.ipynb",
   "provenance": [
    {
     "file_id": "1l3FnzrW7zOkg_svJRYq4E_rVWWCzXETK",
     "timestamp": 1541171492794
    }
   ],
   "version": "0.3.2"
  },
  "kernelspec": {
   "display_name": "Python 3",
   "language": "python",
   "name": "python3"
  },
  "language_info": {
   "codemirror_mode": {
    "name": "ipython",
    "version": 3
   },
   "file_extension": ".py",
   "mimetype": "text/x-python",
   "name": "python",
   "nbconvert_exporter": "python",
   "pygments_lexer": "ipython3",
   "version": "3.6.6"
  }
 },
 "nbformat": 4,
 "nbformat_minor": 1
}
